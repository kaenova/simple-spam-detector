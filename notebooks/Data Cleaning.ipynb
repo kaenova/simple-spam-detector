{
 "cells": [
  {
   "cell_type": "code",
   "execution_count": 1,
   "id": "5cfb73d5-d07c-4e02-b2b6-cee887e036a1",
   "metadata": {},
   "outputs": [
    {
     "name": "stdout",
     "output_type": "stream",
     "text": [
      "Requirement already satisfied: pandas in d:\\@programming\\@on going\\school\\spam_detector\\venv\\lib\\site-packages (1.4.1)\n",
      "Requirement already satisfied: sastrawi in d:\\@programming\\@on going\\school\\spam_detector\\venv\\lib\\site-packages (1.0.1)\n",
      "Requirement already satisfied: numpy>=1.21.0 in d:\\@programming\\@on going\\school\\spam_detector\\venv\\lib\\site-packages (from pandas) (1.22.3)\n",
      "Requirement already satisfied: pytz>=2020.1 in d:\\@programming\\@on going\\school\\spam_detector\\venv\\lib\\site-packages (from pandas) (2021.3)\n",
      "Requirement already satisfied: python-dateutil>=2.8.1 in d:\\@programming\\@on going\\school\\spam_detector\\venv\\lib\\site-packages (from pandas) (2.8.2)\n",
      "Requirement already satisfied: six>=1.5 in d:\\@programming\\@on going\\school\\spam_detector\\venv\\lib\\site-packages (from python-dateutil>=2.8.1->pandas) (1.16.0)\n"
     ]
    },
    {
     "name": "stderr",
     "output_type": "stream",
     "text": [
      "WARNING: You are using pip version 21.2.4; however, version 22.0.4 is available.\n",
      "You should consider upgrading via the 'D:\\@Programming\\@On Going\\School\\spam_detector\\venv\\Scripts\\python.exe -m pip install --upgrade pip' command.\n"
     ]
    }
   ],
   "source": [
    "!pip install pandas sastrawi tqdm"
   ]
  },
  {
   "cell_type": "markdown",
   "id": "699b59c9",
   "metadata": {},
   "source": [
    "# Preparing NLP Indonesia Data (Cleaning Module)"
   ]
  },
  {
   "cell_type": "code",
   "execution_count": 60,
   "id": "2887106f",
   "metadata": {},
   "outputs": [],
   "source": [
    "# imported from iFest 2021 Data Cleaning Module by Yaudahlah Teams,\n",
    "# Refactored by Kaenova Mahendra Auditama (Yaudahlah Teams)\n",
    "\n",
    "import pandas as pd\n",
    "from tqdm import tqdm\n",
    "import re\n",
    "import string\n",
    "from Sastrawi.Stemmer.StemmerFactory import StemmerFactory\n",
    "\n",
    "class DataCleaning:\n",
    "  def __init__(self, stopword:list = [], slang_word:dict = {}) -> None:\n",
    "    factory     = StemmerFactory()\n",
    "    self.stemmer     = factory.create_stemmer()\n",
    "    self.stopword = stopword\n",
    "    self.slang_word = slang_word\n",
    "\n",
    "  def AddKamusAlay(self, new_dict:dict = {}):\n",
    "    if (type(new_dict) != dict): raise TypeError(\"Not a valid type\")\n",
    "    self.slang_word = self.slang_word | new_dict\n",
    "  \n",
    "  def AddStopWord(self, stopword:list = []):\n",
    "    if (type(stopword) != list): raise TypeError(\"Not a valid type\")\n",
    "    self.custom_word = self.custom_word + stopword\n",
    "    \n",
    "  def CleanDataFrame(self, df:pd.DataFrame, text_cols:str, label_cols:str, \n",
    "                     word_min:int=0, label_mapping:dict=None, dropna:bool=False):\n",
    "    \"\"\"\n",
    "    Using multiprocessing (*if available) to process data from pandas Dataframe.\n",
    "    Will be outputing a new dataframe with a processed data.\n",
    "    \"\"\"\n",
    "    print(\"Processing...\")\n",
    "    final_list_clean = []\n",
    "    final_list_dirty = []\n",
    "    final_label = []\n",
    "    for _, row in tqdm(df.iterrows(), total=df.shape[0]):\n",
    "      sentence = row[text_cols]\n",
    "      label = row[label_cols]\n",
    "      \n",
    "      # Process label\n",
    "      if label_mapping is not None:\n",
    "        if label not in label_mapping:\n",
    "          print(f\"Label {label} is not matched any label_mapping you've defined. This label will be ignored\")\n",
    "          continue      \n",
    "        clean_label = label_mapping[label]\n",
    "      else:\n",
    "        clean_label = label  \n",
    "      \n",
    "      # Process Text\n",
    "      clean_sentence = self.__cleanText__(sentence, self.slang_word,\n",
    "                                          self.stopword, self.stemmer)\n",
    "      if (clean_sentence is None):\n",
    "        print(f\"Sentence '{sentence}' is empty after processing. This sentence will be ignored\")\n",
    "        continue\n",
    "      if (len(clean_sentence.split()) < word_min):\n",
    "        continue\n",
    "      \n",
    "      final_list_clean.append(clean_sentence)\n",
    "      final_list_dirty.append(sentence)\n",
    "      final_label.append(clean_label)\n",
    "        \n",
    "    # Creating pandas dataframe\n",
    "    data = {\n",
    "      'raw': final_list_dirty,\n",
    "      'processed': final_list_clean,\n",
    "      'label': final_label\n",
    "    }\n",
    "    final_df = pd.DataFrame(data)\n",
    "    if dropna:\n",
    "      print(\"NaN Dropped\")\n",
    "      final_df = final_df.dropna(how='any')\n",
    "    final_df['processed'] = final_df['processed'].astype(str)\n",
    "    final_df['raw'] = final_df['raw'].astype(str)\n",
    "\n",
    "    return final_df\n",
    "\n",
    "  def CleanOneText(self, text):\n",
    "    return self.__cleanText__(text, self.slang_word, self.stopword, self.stemmer)\n",
    "\n",
    "  def __cleanText__(self, text:str, slangword:dict, stopword:list, stemmer) -> str:\n",
    "    '''\n",
    "    Processing a text, deleting some web associated word, removing word from stopword list\n",
    "    and change defined slang word.\n",
    "    '''\n",
    "    # HTML and text annotation removal\n",
    "    text = re.sub(r'http\\S+', '', text)\n",
    "    text = re.sub('(@\\w+|#\\w+)','',text)\n",
    "    text = re.sub('<.*?>', '', text)  \n",
    "    temp_text = list(text)\n",
    "    for i in range(len(temp_text)):\n",
    "      if temp_text[i] in string.punctuation:\n",
    "        temp_text[i] = \" \"\n",
    "    text = ''.join(temp_text)\n",
    "    text = re.sub('[^a-zA-Z]',' ',text) \n",
    "    text = re.sub(\"\\n\",\" \",text)\n",
    "    text = text.lower()\n",
    "    text = re.sub(\"(username|user|url|rt|xf|fx|xe|xa)\\s|\\s(user|url|rt|xf|fx|xe|xa)\",\"\",text)\n",
    "    text = re.sub(r'(\\w)(\\1{2,})', r\"\\1\", text)\n",
    "    text = re.sub(r\"\\b[a-zA-Z]\\b\",\"\",text)\n",
    "    text = re.sub('(s{2,})',' ',text)\n",
    "    text=' '.join(text.split())\n",
    "    text_split = text.split(' ')\n",
    "    final_text_split = []\n",
    "    for i in range(len(text_split)):\n",
    "      if type(text_split[i]) != str:\n",
    "        continue\n",
    "      if str(text_split[i]) in stopword:\n",
    "        continue\n",
    "      if str(text_split[i]) in slangword:\n",
    "        text_split[i] = str(slangword[text_split[i]])\n",
    "      final_text_split.append(text_split[i])\n",
    "    \n",
    "    stemmed_text = stemmer.stem(\" \".join(final_text_split))\n",
    "    \n",
    "    # just to make sure\n",
    "    if len(stemmed_text) == 0:\n",
    "      return None   \n",
    "    \n",
    "    return stemmed_text"
   ]
  },
  {
   "cell_type": "markdown",
   "id": "66506ef4",
   "metadata": {},
   "source": [
    "# Preparing Slang Word / Stopwords"
   ]
  },
  {
   "cell_type": "code",
   "execution_count": 61,
   "id": "c03e7e20",
   "metadata": {},
   "outputs": [],
   "source": [
    "import numpy as np\n",
    "kamus_alay1 = pd.read_csv('https://raw.githubusercontent.com/fendiirfan/Kamus-Alay/main/Kamu-Alay.csv')\n",
    "dict_kamus_alay1 = {}\n",
    "for _,row in kamus_alay1.iterrows():\n",
    "    if row[\"kataBaik\"] is np.NaN:\n",
    "        continue\n",
    "    dict_kamus_alay1[row[\"kataAlay\"]] = row[\"kataBaik\"]"
   ]
  },
  {
   "cell_type": "code",
   "execution_count": 62,
   "id": "a8bed3f7",
   "metadata": {},
   "outputs": [],
   "source": [
    "import numpy as np\n",
    "kamus_alay2 = pd.read_csv('https://raw.githubusercontent.com/nasalsabila/kamus-alay/master/colloquial-indonesian-lexicon.csv')\n",
    "kamus_alay2 = kamus_alay2.filter(['slang', 'formal'], axis=1)\n",
    "kamus_alay2 = kamus_alay2.drop_duplicates(subset=['slang'], keep='first')\n",
    "dict_kamus_alay2 = {}\n",
    "for _,row in kamus_alay2.iterrows():\n",
    "    if row[\"formal\"] is np.NaN:\n",
    "        continue\n",
    "    dict_kamus_alay2[row[\"slang\"]] = row[\"formal\"]"
   ]
  },
  {
   "cell_type": "code",
   "execution_count": 63,
   "id": "b49408b0",
   "metadata": {},
   "outputs": [],
   "source": [
    "stopword   = list(pd.read_csv('https://raw.githubusercontent.com/datascienceid/stopwords-bahasa-indonesia/master/stopwords_id_satya.txt', header = None)[0])"
   ]
  },
  {
   "cell_type": "markdown",
   "id": "f77c7e7e",
   "metadata": {},
   "source": [
    "# Start To Clean some Data"
   ]
  },
  {
   "cell_type": "markdown",
   "id": "e2bc84fa",
   "metadata": {},
   "source": [
    "Creating Data Cleaner Instance"
   ]
  },
  {
   "cell_type": "code",
   "execution_count": 64,
   "id": "ea5be290",
   "metadata": {},
   "outputs": [],
   "source": [
    "cleaner = DataCleaning(stopword, dict_kamus_alay1 | dict_kamus_alay2)"
   ]
  },
  {
   "cell_type": "markdown",
   "id": "03b145c0",
   "metadata": {},
   "source": [
    "Importing RAW Data"
   ]
  },
  {
   "cell_type": "code",
   "execution_count": 65,
   "id": "c8c9507b",
   "metadata": {},
   "outputs": [
    {
     "data": {
      "text/html": [
       "<div>\n",
       "<style scoped>\n",
       "    .dataframe tbody tr th:only-of-type {\n",
       "        vertical-align: middle;\n",
       "    }\n",
       "\n",
       "    .dataframe tbody tr th {\n",
       "        vertical-align: top;\n",
       "    }\n",
       "\n",
       "    .dataframe thead th {\n",
       "        text-align: right;\n",
       "    }\n",
       "</style>\n",
       "<table border=\"1\" class=\"dataframe\">\n",
       "  <thead>\n",
       "    <tr style=\"text-align: right;\">\n",
       "      <th></th>\n",
       "      <th>Teks</th>\n",
       "      <th>label</th>\n",
       "    </tr>\n",
       "  </thead>\n",
       "  <tbody>\n",
       "    <tr>\n",
       "      <th>0</th>\n",
       "      <td>[PROMO] Beli paket Flash mulai 1GB di MY TELKO...</td>\n",
       "      <td>promo</td>\n",
       "    </tr>\n",
       "    <tr>\n",
       "      <th>1</th>\n",
       "      <td>2.5 GB/30 hari hanya Rp 35 Ribu Spesial buat A...</td>\n",
       "      <td>promo</td>\n",
       "    </tr>\n",
       "    <tr>\n",
       "      <th>2</th>\n",
       "      <td>2016-07-08 11:47:11.Plg Yth, sisa kuota Flash ...</td>\n",
       "      <td>promo</td>\n",
       "    </tr>\n",
       "    <tr>\n",
       "      <th>3</th>\n",
       "      <td>2016-08-07 11:29:47.Plg Yth, sisa kuota Flash ...</td>\n",
       "      <td>promo</td>\n",
       "    </tr>\n",
       "    <tr>\n",
       "      <th>4</th>\n",
       "      <td>4.5GB/30 hari hanya Rp 55 Ribu Spesial buat an...</td>\n",
       "      <td>promo</td>\n",
       "    </tr>\n",
       "    <tr>\n",
       "      <th>...</th>\n",
       "      <td>...</td>\n",
       "      <td>...</td>\n",
       "    </tr>\n",
       "    <tr>\n",
       "      <th>1138</th>\n",
       "      <td>Yooo sama2, oke nanti aku umumin di grup kelas</td>\n",
       "      <td>normal</td>\n",
       "    </tr>\n",
       "    <tr>\n",
       "      <th>1139</th>\n",
       "      <td>😁 sebelumnya ga ad nulis kerudung. Kirain warn...</td>\n",
       "      <td>normal</td>\n",
       "    </tr>\n",
       "    <tr>\n",
       "      <th>1140</th>\n",
       "      <td>Mba mau kirim 300 ya</td>\n",
       "      <td>normal</td>\n",
       "    </tr>\n",
       "    <tr>\n",
       "      <th>1141</th>\n",
       "      <td>nama1  beaok bwrangkat pagi...mau cas atay tra...</td>\n",
       "      <td>normal</td>\n",
       "    </tr>\n",
       "    <tr>\n",
       "      <th>1142</th>\n",
       "      <td>No bri atas nama kamu mana</td>\n",
       "      <td>normal</td>\n",
       "    </tr>\n",
       "  </tbody>\n",
       "</table>\n",
       "<p>1143 rows × 2 columns</p>\n",
       "</div>"
      ],
      "text/plain": [
       "                                                   Teks   label\n",
       "0     [PROMO] Beli paket Flash mulai 1GB di MY TELKO...   promo\n",
       "1     2.5 GB/30 hari hanya Rp 35 Ribu Spesial buat A...   promo\n",
       "2     2016-07-08 11:47:11.Plg Yth, sisa kuota Flash ...   promo\n",
       "3     2016-08-07 11:29:47.Plg Yth, sisa kuota Flash ...   promo\n",
       "4     4.5GB/30 hari hanya Rp 55 Ribu Spesial buat an...   promo\n",
       "...                                                 ...     ...\n",
       "1138     Yooo sama2, oke nanti aku umumin di grup kelas  normal\n",
       "1139  😁 sebelumnya ga ad nulis kerudung. Kirain warn...  normal\n",
       "1140                               Mba mau kirim 300 ya  normal\n",
       "1141  nama1  beaok bwrangkat pagi...mau cas atay tra...  normal\n",
       "1142                         No bri atas nama kamu mana  normal\n",
       "\n",
       "[1143 rows x 2 columns]"
      ]
     },
     "execution_count": 65,
     "metadata": {},
     "output_type": "execute_result"
    }
   ],
   "source": [
    "df = pd.read_csv(\"../data/raw/dataset_sms_spam_v2.csv\")\n",
    "df"
   ]
  },
  {
   "cell_type": "markdown",
   "id": "9d11adbd",
   "metadata": {},
   "source": [
    "Checking Labels and Start Data Cleaning"
   ]
  },
  {
   "cell_type": "code",
   "execution_count": 66,
   "id": "4dfd676a",
   "metadata": {},
   "outputs": [
    {
     "data": {
      "text/plain": [
       "array(['promo', 'penipuan', 'normal'], dtype=object)"
      ]
     },
     "execution_count": 66,
     "metadata": {},
     "output_type": "execute_result"
    }
   ],
   "source": [
    "df[\"label\"].unique()"
   ]
  },
  {
   "cell_type": "code",
   "execution_count": 67,
   "id": "199bd02b",
   "metadata": {},
   "outputs": [
    {
     "name": "stdout",
     "output_type": "stream",
     "text": [
      "Processing...\n"
     ]
    },
    {
     "name": "stderr",
     "output_type": "stream",
     "text": [
      "100%|██████████| 1143/1143 [02:44<00:00,  6.96it/s]\n"
     ]
    }
   ],
   "source": [
    "label_mapping = {\n",
    "    \"normal\" : 0,\n",
    "    \"promo\" : 1,\n",
    "    \"penipuan\": 1\n",
    "}\n",
    "\n",
    "cleaned_df = cleaner.CleanDataFrame(df, \"Teks\", \"label\", 0, label_mapping=label_mapping)"
   ]
  },
  {
   "cell_type": "code",
   "execution_count": 68,
   "id": "2851ebda",
   "metadata": {},
   "outputs": [
    {
     "data": {
      "text/html": [
       "<div>\n",
       "<style scoped>\n",
       "    .dataframe tbody tr th:only-of-type {\n",
       "        vertical-align: middle;\n",
       "    }\n",
       "\n",
       "    .dataframe tbody tr th {\n",
       "        vertical-align: top;\n",
       "    }\n",
       "\n",
       "    .dataframe thead th {\n",
       "        text-align: right;\n",
       "    }\n",
       "</style>\n",
       "<table border=\"1\" class=\"dataframe\">\n",
       "  <thead>\n",
       "    <tr style=\"text-align: right;\">\n",
       "      <th></th>\n",
       "      <th>raw</th>\n",
       "      <th>processed</th>\n",
       "      <th>label</th>\n",
       "    </tr>\n",
       "  </thead>\n",
       "  <tbody>\n",
       "    <tr>\n",
       "      <th>0</th>\n",
       "      <td>[PROMO] Beli paket Flash mulai 1GB di MY TELKO...</td>\n",
       "      <td>promo beli paket flash mulai gb my telkomsel a...</td>\n",
       "      <td>1</td>\n",
       "    </tr>\n",
       "    <tr>\n",
       "      <th>1</th>\n",
       "      <td>2.5 GB/30 hari hanya Rp 35 Ribu Spesial buat A...</td>\n",
       "      <td>gb hari rp ribu spesial pilih aktif promo sd n...</td>\n",
       "      <td>1</td>\n",
       "    </tr>\n",
       "    <tr>\n",
       "      <th>2</th>\n",
       "      <td>2016-07-08 11:47:11.Plg Yth, sisa kuota Flash ...</td>\n",
       "      <td>pulang yang hormat sisa kuota flash kb downloa...</td>\n",
       "      <td>1</td>\n",
       "    </tr>\n",
       "    <tr>\n",
       "      <th>3</th>\n",
       "      <td>2016-08-07 11:29:47.Plg Yth, sisa kuota Flash ...</td>\n",
       "      <td>pulang yang hormat sisa kuota flash kb downloa...</td>\n",
       "      <td>1</td>\n",
       "    </tr>\n",
       "    <tr>\n",
       "      <th>4</th>\n",
       "      <td>4.5GB/30 hari hanya Rp 55 Ribu Spesial buat an...</td>\n",
       "      <td>gb hari rp ribu spesial pilih aktif buru skb</td>\n",
       "      <td>1</td>\n",
       "    </tr>\n",
       "    <tr>\n",
       "      <th>...</th>\n",
       "      <td>...</td>\n",
       "      <td>...</td>\n",
       "      <td>...</td>\n",
       "    </tr>\n",
       "    <tr>\n",
       "      <th>1138</th>\n",
       "      <td>Yooo sama2, oke nanti aku umumin di grup kelas</td>\n",
       "      <td>ya oke umumin grup kelas</td>\n",
       "      <td>0</td>\n",
       "    </tr>\n",
       "    <tr>\n",
       "      <th>1139</th>\n",
       "      <td>😁 sebelumnya ga ad nulis kerudung. Kirain warn...</td>\n",
       "      <td>enggak ada tulis kerudung ira warna jins</td>\n",
       "      <td>0</td>\n",
       "    </tr>\n",
       "    <tr>\n",
       "      <th>1140</th>\n",
       "      <td>Mba mau kirim 300 ya</td>\n",
       "      <td>mbak kirim iya</td>\n",
       "      <td>0</td>\n",
       "    </tr>\n",
       "    <tr>\n",
       "      <th>1141</th>\n",
       "      <td>nama1  beaok bwrangkat pagi...mau cas atay tra...</td>\n",
       "      <td>nama beaok bwrangkat pagi cas atay tranfer</td>\n",
       "      <td>0</td>\n",
       "    </tr>\n",
       "    <tr>\n",
       "      <th>1142</th>\n",
       "      <td>No bri atas nama kamu mana</td>\n",
       "      <td>no bri atas nama</td>\n",
       "      <td>0</td>\n",
       "    </tr>\n",
       "  </tbody>\n",
       "</table>\n",
       "<p>1143 rows × 3 columns</p>\n",
       "</div>"
      ],
      "text/plain": [
       "                                                    raw  \\\n",
       "0     [PROMO] Beli paket Flash mulai 1GB di MY TELKO...   \n",
       "1     2.5 GB/30 hari hanya Rp 35 Ribu Spesial buat A...   \n",
       "2     2016-07-08 11:47:11.Plg Yth, sisa kuota Flash ...   \n",
       "3     2016-08-07 11:29:47.Plg Yth, sisa kuota Flash ...   \n",
       "4     4.5GB/30 hari hanya Rp 55 Ribu Spesial buat an...   \n",
       "...                                                 ...   \n",
       "1138     Yooo sama2, oke nanti aku umumin di grup kelas   \n",
       "1139  😁 sebelumnya ga ad nulis kerudung. Kirain warn...   \n",
       "1140                               Mba mau kirim 300 ya   \n",
       "1141  nama1  beaok bwrangkat pagi...mau cas atay tra...   \n",
       "1142                         No bri atas nama kamu mana   \n",
       "\n",
       "                                              processed  label  \n",
       "0     promo beli paket flash mulai gb my telkomsel a...      1  \n",
       "1     gb hari rp ribu spesial pilih aktif promo sd n...      1  \n",
       "2     pulang yang hormat sisa kuota flash kb downloa...      1  \n",
       "3     pulang yang hormat sisa kuota flash kb downloa...      1  \n",
       "4          gb hari rp ribu spesial pilih aktif buru skb      1  \n",
       "...                                                 ...    ...  \n",
       "1138                           ya oke umumin grup kelas      0  \n",
       "1139           enggak ada tulis kerudung ira warna jins      0  \n",
       "1140                                     mbak kirim iya      0  \n",
       "1141         nama beaok bwrangkat pagi cas atay tranfer      0  \n",
       "1142                                   no bri atas nama      0  \n",
       "\n",
       "[1143 rows x 3 columns]"
      ]
     },
     "execution_count": 68,
     "metadata": {},
     "output_type": "execute_result"
    }
   ],
   "source": [
    "cleaned_df"
   ]
  },
  {
   "cell_type": "markdown",
   "id": "83fc206f",
   "metadata": {},
   "source": [
    "Apperantly there's duplicate on processed label, so we need to drop it"
   ]
  },
  {
   "cell_type": "code",
   "execution_count": 71,
   "id": "e7a2b4e9",
   "metadata": {},
   "outputs": [],
   "source": [
    "clean_dups_df = cleaned_df.drop_duplicates([\"processed\"])"
   ]
  },
  {
   "cell_type": "code",
   "execution_count": 72,
   "id": "b7126dee",
   "metadata": {},
   "outputs": [
    {
     "data": {
      "text/html": [
       "<div>\n",
       "<style scoped>\n",
       "    .dataframe tbody tr th:only-of-type {\n",
       "        vertical-align: middle;\n",
       "    }\n",
       "\n",
       "    .dataframe tbody tr th {\n",
       "        vertical-align: top;\n",
       "    }\n",
       "\n",
       "    .dataframe thead th {\n",
       "        text-align: right;\n",
       "    }\n",
       "</style>\n",
       "<table border=\"1\" class=\"dataframe\">\n",
       "  <thead>\n",
       "    <tr style=\"text-align: right;\">\n",
       "      <th></th>\n",
       "      <th>raw</th>\n",
       "      <th>processed</th>\n",
       "      <th>label</th>\n",
       "    </tr>\n",
       "  </thead>\n",
       "  <tbody>\n",
       "    <tr>\n",
       "      <th>0</th>\n",
       "      <td>[PROMO] Beli paket Flash mulai 1GB di MY TELKO...</td>\n",
       "      <td>promo beli paket flash mulai gb my telkomsel a...</td>\n",
       "      <td>1</td>\n",
       "    </tr>\n",
       "    <tr>\n",
       "      <th>1</th>\n",
       "      <td>2.5 GB/30 hari hanya Rp 35 Ribu Spesial buat A...</td>\n",
       "      <td>gb hari rp ribu spesial pilih aktif promo sd n...</td>\n",
       "      <td>1</td>\n",
       "    </tr>\n",
       "    <tr>\n",
       "      <th>2</th>\n",
       "      <td>2016-07-08 11:47:11.Plg Yth, sisa kuota Flash ...</td>\n",
       "      <td>pulang yang hormat sisa kuota flash kb downloa...</td>\n",
       "      <td>1</td>\n",
       "    </tr>\n",
       "    <tr>\n",
       "      <th>4</th>\n",
       "      <td>4.5GB/30 hari hanya Rp 55 Ribu Spesial buat an...</td>\n",
       "      <td>gb hari rp ribu spesial pilih aktif buru skb</td>\n",
       "      <td>1</td>\n",
       "    </tr>\n",
       "    <tr>\n",
       "      <th>5</th>\n",
       "      <td>5 HARI LAGI ! EKSTRA Pulsa 50rb dg beli paket ...</td>\n",
       "      <td>hari ekstra pulsa ribu dengan beli paket inter...</td>\n",
       "      <td>1</td>\n",
       "    </tr>\n",
       "    <tr>\n",
       "      <th>...</th>\n",
       "      <td>...</td>\n",
       "      <td>...</td>\n",
       "      <td>...</td>\n",
       "    </tr>\n",
       "    <tr>\n",
       "      <th>1138</th>\n",
       "      <td>Yooo sama2, oke nanti aku umumin di grup kelas</td>\n",
       "      <td>ya oke umumin grup kelas</td>\n",
       "      <td>0</td>\n",
       "    </tr>\n",
       "    <tr>\n",
       "      <th>1139</th>\n",
       "      <td>😁 sebelumnya ga ad nulis kerudung. Kirain warn...</td>\n",
       "      <td>enggak ada tulis kerudung ira warna jins</td>\n",
       "      <td>0</td>\n",
       "    </tr>\n",
       "    <tr>\n",
       "      <th>1140</th>\n",
       "      <td>Mba mau kirim 300 ya</td>\n",
       "      <td>mbak kirim iya</td>\n",
       "      <td>0</td>\n",
       "    </tr>\n",
       "    <tr>\n",
       "      <th>1141</th>\n",
       "      <td>nama1  beaok bwrangkat pagi...mau cas atay tra...</td>\n",
       "      <td>nama beaok bwrangkat pagi cas atay tranfer</td>\n",
       "      <td>0</td>\n",
       "    </tr>\n",
       "    <tr>\n",
       "      <th>1142</th>\n",
       "      <td>No bri atas nama kamu mana</td>\n",
       "      <td>no bri atas nama</td>\n",
       "      <td>0</td>\n",
       "    </tr>\n",
       "  </tbody>\n",
       "</table>\n",
       "<p>1139 rows × 3 columns</p>\n",
       "</div>"
      ],
      "text/plain": [
       "                                                    raw  \\\n",
       "0     [PROMO] Beli paket Flash mulai 1GB di MY TELKO...   \n",
       "1     2.5 GB/30 hari hanya Rp 35 Ribu Spesial buat A...   \n",
       "2     2016-07-08 11:47:11.Plg Yth, sisa kuota Flash ...   \n",
       "4     4.5GB/30 hari hanya Rp 55 Ribu Spesial buat an...   \n",
       "5     5 HARI LAGI ! EKSTRA Pulsa 50rb dg beli paket ...   \n",
       "...                                                 ...   \n",
       "1138     Yooo sama2, oke nanti aku umumin di grup kelas   \n",
       "1139  😁 sebelumnya ga ad nulis kerudung. Kirain warn...   \n",
       "1140                               Mba mau kirim 300 ya   \n",
       "1141  nama1  beaok bwrangkat pagi...mau cas atay tra...   \n",
       "1142                         No bri atas nama kamu mana   \n",
       "\n",
       "                                              processed  label  \n",
       "0     promo beli paket flash mulai gb my telkomsel a...      1  \n",
       "1     gb hari rp ribu spesial pilih aktif promo sd n...      1  \n",
       "2     pulang yang hormat sisa kuota flash kb downloa...      1  \n",
       "4          gb hari rp ribu spesial pilih aktif buru skb      1  \n",
       "5     hari ekstra pulsa ribu dengan beli paket inter...      1  \n",
       "...                                                 ...    ...  \n",
       "1138                           ya oke umumin grup kelas      0  \n",
       "1139           enggak ada tulis kerudung ira warna jins      0  \n",
       "1140                                     mbak kirim iya      0  \n",
       "1141         nama beaok bwrangkat pagi cas atay tranfer      0  \n",
       "1142                                   no bri atas nama      0  \n",
       "\n",
       "[1139 rows x 3 columns]"
      ]
     },
     "execution_count": 72,
     "metadata": {},
     "output_type": "execute_result"
    }
   ],
   "source": [
    "clean_dups_df"
   ]
  },
  {
   "cell_type": "markdown",
   "id": "5b33c515",
   "metadata": {},
   "source": [
    "Exporting to CSV"
   ]
  },
  {
   "cell_type": "code",
   "execution_count": 74,
   "id": "e9de160d",
   "metadata": {},
   "outputs": [],
   "source": [
    "clean_dups_df.to_csv(\"../data/processed/clean.csv\", index=False)"
   ]
  }
 ],
 "metadata": {
  "kernelspec": {
   "display_name": "Python 3 (ipykernel)",
   "language": "python",
   "name": "python3"
  },
  "language_info": {
   "codemirror_mode": {
    "name": "ipython",
    "version": 3
   },
   "file_extension": ".py",
   "mimetype": "text/x-python",
   "name": "python",
   "nbconvert_exporter": "python",
   "pygments_lexer": "ipython3",
   "version": "3.10.2"
  }
 },
 "nbformat": 4,
 "nbformat_minor": 5
}
